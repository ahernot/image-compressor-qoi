{
 "cells": [
  {
   "cell_type": "code",
   "execution_count": 12,
   "metadata": {},
   "outputs": [],
   "source": [
    "import cv2\n",
    "import numpy as np\n",
    "\n",
    "BYTEORDER = 'big'  # endianness is intra-byte (?)\n",
    "# specs: https://qoiformat.org/qoi-specification.pdf"
   ]
  },
  {
   "cell_type": "code",
   "execution_count": 13,
   "metadata": {},
   "outputs": [],
   "source": [
    "# Generate end marker\n",
    "i0, i1 = 0, 1\n",
    "b0, b1 = i0.to_bytes(1, byteorder=BYTEORDER, signed=False), i1.to_bytes(1, byteorder=BYTEORDER, signed=False)\n",
    "end_marker = i0.to_bytes(7, byteorder=BYTEORDER, signed=False) + i1.to_bytes(1, byteorder=BYTEORDER, signed=False)"
   ]
  },
  {
   "cell_type": "code",
   "execution_count": 14,
   "metadata": {},
   "outputs": [
    {
     "name": "stdout",
     "output_type": "stream",
     "text": [
      "b'\\x00\\x00\\x00\\x00\\x00\\x00\\x00\\x01'\n"
     ]
    }
   ],
   "source": [
    "print(end_marker)  # b'\\x00\\x00\\x00\\x00\\x00\\x00\\x00\\x01'"
   ]
  },
  {
   "cell_type": "code",
   "execution_count": 15,
   "metadata": {},
   "outputs": [],
   "source": [
    "def index_hash (pixel: np.ndarray):\n",
    "    if pixel.shape[0] == 4:\n",
    "        r, g, b, a = pixel\n",
    "        index_position = (r * 3 + g * 5 + b * 7 + a * 11) % 64\n",
    "    elif pixel.shape[0] == 3:\n",
    "        r, g, b = pixel  # a = 0\n",
    "        index_position = (r * 3 + g * 5 + b * 7) % 64\n",
    "    else:\n",
    "        print(pixel, pixel.shape)\n",
    "        raise ValueError('Wrong pixel shape')\n",
    "    return int(index_position)"
   ]
  },
  {
   "cell_type": "code",
   "execution_count": 16,
   "metadata": {},
   "outputs": [
    {
     "name": "stdout",
     "output_type": "stream",
     "text": [
      "Loaded image src/IMG_0036-v3-duplicate-downres.jpeg (600x400) with 3 channels.\n",
      "Estimated processing time: 40s\n"
     ]
    }
   ],
   "source": [
    "path = 'src/IMG_0036-v3-duplicate-downres.jpeg'\n",
    "\n",
    "img = cv2.imread(path)\n",
    "height, width, channels = img.shape\n",
    "colorspace = 0  # srgb\n",
    "\n",
    "print(f'Loaded image {path} ({width}x{height}) with {channels} channels.')\n",
    "\n",
    "if channels == 3:\n",
    "    pixel_prev = np.array([0, 0, 0])\n",
    "elif channels == 4:\n",
    "    pixel_prev = np.array([0, 0, 0, 255])\n",
    "else: print('error: wrong number of channels')\n",
    "\n",
    "img_line = img.reshape((-1, 3))\n",
    "print(f'Estimated processing time: {round(img_line.shape[0]/6000)}s')"
   ]
  },
  {
   "cell_type": "markdown",
   "metadata": {},
   "source": [
    "## Encoding"
   ]
  },
  {
   "cell_type": "code",
   "execution_count": 17,
   "metadata": {},
   "outputs": [],
   "source": [
    "# Generate header\n",
    "width_b = width.to_bytes(4, byteorder=BYTEORDER, signed=False)\n",
    "height_b = height.to_bytes(4, byteorder=BYTEORDER, signed=False)\n",
    "channels_b = channels.to_bytes(1, byteorder=BYTEORDER, signed=False)\n",
    "colorspace_b = colorspace.to_bytes(1, byteorder=BYTEORDER, signed=False)\n",
    "\n",
    "header = b'qoif' + width_b + height_b + channels_b + colorspace_b"
   ]
  },
  {
   "cell_type": "code",
   "execution_count": 6,
   "metadata": {},
   "outputs": [],
   "source": [
    "bytes = b''\n",
    "\n",
    "# Initialise run length encoding buffer\n",
    "run_len = 0\n",
    "run = False\n",
    "\n",
    "# Initialise memory\n",
    "if channels == 3:\n",
    "    memory = {i: np.array([0, 0, 0]) for i in range(64)}\n",
    "elif channels == 4:\n",
    "    memory = {i: np.array([0, 0, 0, 255]) for i in range(64)}\n",
    "\n",
    "for pixel in img_line:\n",
    "\n",
    "    # Unpack pixel\n",
    "    if channels == 3:\n",
    "        r, g, b = pixel\n",
    "        r_prev, g_prev, b_prev = pixel_prev\n",
    "        a, a_prev = 255, 255\n",
    "    elif channels == 4:\n",
    "        r, g, b, a = pixel\n",
    "        r_prev, g_prev, b_prev, a_prev = pixel_prev\n",
    "\n",
    "\n",
    "    # Run-length encoding\n",
    "    if (pixel == pixel_prev).all() and run_len < 63:\n",
    "        # print('run')\n",
    "        run_len += 1\n",
    "        run = True\n",
    "\n",
    "\n",
    "    else:\n",
    "        # End run-length\n",
    "        if run == True:\n",
    "            val = '11' + '{0:06b}'.format(run_len - 1)  # store with a bias of -1 (to make full use of the 6-bit \n",
    "            val_b = int(val, 2).to_bytes(1, byteorder=BYTEORDER, signed=False)\n",
    "            bytes += val_b  # write\n",
    "            run_len = 0\n",
    "            run = False\n",
    "\n",
    "        # Memory search\n",
    "        flag = False\n",
    "        for key in memory.keys():\n",
    "            if (memory[key] == pixel).all():\n",
    "                # print('from memory')\n",
    "                val = '00' + '{0:06b}'.format(key)\n",
    "                val_b = int(val, 2).to_bytes(1, byteorder=BYTEORDER, signed=False)\n",
    "                flag = True\n",
    "                break\n",
    "        \n",
    "        if flag == False:\n",
    "            \n",
    "            dr = (int(r) - int(r_prev)) % 256\n",
    "            dg = (int(g) - int(g_prev)) % 256\n",
    "            db = (int(b) - int(b_prev)) % 256\n",
    "            da = (int(a) - int(a_prev)) % 256\n",
    "\n",
    "            # Diff\n",
    "            if dr in range(-2, 2) and dg in range(-2, 2) and db in range(-2, 2) and da == 0:\n",
    "                # print('smalldif')\n",
    "                val = '01' + '{0:02b}'.format(dr+2) + '{0:02b}'.format(dg+2) + '{0:02b}'.format(db+2)\n",
    "                val_b = int(val, 2).to_bytes(1, byteorder=BYTEORDER, signed=False)\n",
    "            \n",
    "            # Luma\n",
    "            else:\n",
    "                dr_dg = (dr - dg) % 256\n",
    "                db_dg = (db - dg) % 256\n",
    "                \n",
    "                if dg in range(-32, 32) and dr_dg in range(-8, 8) and db_dg in range(-8, 8) and da == 0:\n",
    "                    # print('bigdif')\n",
    "                    vals = ['10' + '{0:06b}'.format(dg+32), '{0:04b}'.format(dr_dg+8) + '{0:04b}'.format(db_dg+8)]\n",
    "                    vals_b = [int(val, 2).to_bytes(1, byteorder=BYTEORDER, signed=False) for val in vals]\n",
    "                    val_b = vals_b[0] + vals_b[1]\n",
    "                \n",
    "                # New pixel\n",
    "                else:\n",
    "                    # print('new')\n",
    "                    if channels == 3 or (channels == 4 and da == 0):\n",
    "                        vals = ['11111110', '{0:08b}'.format(int(r)), '{0:08b}'.format(int(g)), '{0:08b}'.format(int(b))]\n",
    "                        vals_b = [int(val, 2).to_bytes(1, byteorder=BYTEORDER, signed=False) for val in vals]\n",
    "                        val_b = vals_b[0] + vals_b[1] + vals_b[2] + vals_b[3]\n",
    "                        # tag = i1.to_bytes(7, byteorder=BYTEORDER, signed=False) + i0.to_bytes(1, byteorder=BYTEORDER, signed=False)\n",
    "                        # val = int(r).to_bytes(8, byteorder=BYTEORDER, signed=False) + int(g).to_bytes(8, byteorder=BYTEORDER, signed=False) + int(b).to_bytes(8, byteorder=BYTEORDER, signed=False)\n",
    "                    elif channels == 4:\n",
    "                        vals = ['11111111', '{0:08b}'.format(int(r)), '{0:08b}'.format(int(g)), '{0:08b}'.format(int(b)), '{0:08b}'.format(int(a))]\n",
    "                        vals_b = [int(val, 2).to_bytes(1, byteorder=BYTEORDER, signed=False) for val in vals]\n",
    "                        val_b = vals_b[0] + vals_b[1] + vals_b[2] + vals_b[3] + vals_b[4]\n",
    "                        # tag = i1.to_bytes(8, byteorder=BYTEORDER, signed=False)\n",
    "                        # val = int(r).to_bytes(8, byteorder=BYTEORDER, signed=False) + int(g).to_bytes(8, byteorder=BYTEORDER, signed=False) + int(b).to_bytes(8, byteorder=BYTEORDER, signed=False) + int(a).to_bytes(8, byteorder=BYTEORDER, signed=False)\n",
    "\n",
    "        # Write\n",
    "        bytes += val_b\n",
    "\n",
    "    # Add pixel to memory\n",
    "    memory[index_hash(pixel)] = pixel\n",
    "    pixel_prev = pixel.copy()"
   ]
  },
  {
   "cell_type": "code",
   "execution_count": 7,
   "metadata": {},
   "outputs": [],
   "source": [
    "with open('out.bin', 'wb') as out_bin:\n",
    "    out_bin.write(header)\n",
    "    out_bin.write(bytes)\n",
    "    out_bin.write(end_marker)\n"
   ]
  },
  {
   "cell_type": "markdown",
   "metadata": {},
   "source": [
    "## Decoding"
   ]
  },
  {
   "cell_type": "code",
   "execution_count": 19,
   "metadata": {},
   "outputs": [
    {
     "name": "stdout",
     "output_type": "stream",
     "text": [
      "3\n"
     ]
    }
   ],
   "source": [
    "with open('out.bin', 'rb') as in_bin:\n",
    "    img_bytes = in_bin.read()\n",
    "\n",
    "# with open('src/testcard.qoi', 'rb') as in_bin:\n",
    "#     img_bytes = in_bin.read()\n",
    "\n",
    "header = img_bytes[:14]\n",
    "bytes = img_bytes[14:-8]\n",
    "# end_marker = img_bytes[-8:]\n",
    "\n",
    "\n",
    "tag = header[:4].decode('utf-8')\n",
    "width = int.from_bytes(header[4:8], BYTEORDER)\n",
    "height = int.from_bytes(header[8:12], BYTEORDER)\n",
    "channels = header[12]\n",
    "colorspace = header[12]\n",
    "\n",
    "\n",
    "### TODO: READ NB OF CHANNELS"
   ]
  },
  {
   "cell_type": "code",
   "execution_count": 11,
   "metadata": {},
   "outputs": [],
   "source": [
    "nbytes = len(bytes)\n",
    "\n",
    "if channels == 3:\n",
    "    img_line = np.empty((0, 3), dtype=np.uint8)\n",
    "elif channels == 4:\n",
    "    img_line = np.empty((0, 4), dtype=np.uint8)\n",
    "\n",
    "if channels == 3:\n",
    "    pixel_prev = np.array([0, 0, 0], dtype=np.uint8)\n",
    "elif channels == 4:\n",
    "    pixel_prev = np.array([0, 0, 0, 255], dtype=np.uint8)\n",
    "else: print('error: wrong number of channels')\n",
    "\n",
    "if channels == 3:\n",
    "    memory = {i: np.array([0, 0, 0]) for i in range(64)}\n",
    "elif channels == 4:\n",
    "    memory = {i: np.array([0, 0, 0, 255]) for i in range(64)}\n",
    "\n",
    "i = 0\n",
    "while i < nbytes:\n",
    "\n",
    "    byte = bytes[i]\n",
    "    byte_bin = '{0:08b}'.format(byte)\n",
    "\n",
    "    # Original value (RGB)\n",
    "    if channels == 3 and byte_bin == '11111110':\n",
    "        r = bytes[i+1]\n",
    "        g = bytes[i+2]\n",
    "        b = bytes[i+3]\n",
    "        pixel = np.array([r, g, b], dtype=np.uint8)\n",
    "        img_line = np.concatenate((img_line, np.expand_dims(pixel, axis=0)))\n",
    "        \n",
    "        memory[index_hash(pixel)] = pixel\n",
    "        pixel_prev = pixel.copy()\n",
    "        i += 4\n",
    "\n",
    "    # Original value (RGBA)\n",
    "    elif channels == 4 and byte_bin == '11111111':\n",
    "        r = bytes[i+1]\n",
    "        g = bytes[i+2]\n",
    "        b = bytes[i+3]\n",
    "        a = bytes[i+4]\n",
    "        pixel = np.array([r, g, b, a], dtype=np.uint8)\n",
    "        img_line = np.concatenate((img_line, np.expand_dims(pixel, axis=0)))\n",
    "        \n",
    "        memory[index_hash(pixel)] = pixel\n",
    "        pixel_prev = pixel.copy()\n",
    "        i += 5\n",
    "\n",
    "    # Run\n",
    "    elif byte_bin[:2] == '11':\n",
    "        run_len = int(byte_bin[2:], 2)\n",
    "        pixels = np.full((run_len, channels), pixel_prev, dtype=np.uint8)  # +1 here or encode run_len+1?\n",
    "        img_line = np.concatenate((img_line, pixels))\n",
    "\n",
    "        i += 1\n",
    "\n",
    "    # Big dif\n",
    "    elif byte_bin[:2] == '10':\n",
    "        # print('bigdif')\n",
    "        dg = int(byte_bin[2:], 2) - 32\n",
    "\n",
    "        byte_next = bytes[i+1]\n",
    "        byte_next_bin = '{0:08b}'.format(byte_next)\n",
    "        dr = int(byte_next_bin[:4], 2) - 8 + dg\n",
    "        db = int(byte_next_bin[4:], 2) - 8 + dg\n",
    "\n",
    "        if channels == 3: pixel_diff = np.array([dr, dg, db])\n",
    "        elif channels == 4: pixel_diff = np.array([dr, dg, db, 0])\n",
    "        pixel = (pixel_prev.copy() + pixel_diff).astype(np.uint8)\n",
    "        img_line = np.concatenate((img_line, np.expand_dims(pixel, axis=0)))\n",
    "        \n",
    "        memory[index_hash(pixel)] = pixel\n",
    "        pixel_prev = pixel.copy()\n",
    "        i += 2\n",
    "\n",
    "    # Small dif\n",
    "    elif byte_bin[:2] == '01':\n",
    "        dr = int(byte_bin[2:4], 2) - 2\n",
    "        dg = int(byte_bin[4:6], 2) - 2\n",
    "        db = int(byte_bin[6:8], 2) - 2\n",
    "        \n",
    "        if channels == 3: pixel_diff = np.array([dr, dg, db])\n",
    "        elif channels == 4: pixel_diff = np.array([dr, dg, db, 0])\n",
    "        pixel = (pixel_prev.copy() + pixel_diff).astype(np.uint8)\n",
    "        # memory[index_hash(pixel)] = pixel\n",
    "        img_line = np.concatenate((img_line, np.expand_dims(pixel, axis=0)))\n",
    "\n",
    "        memory[index_hash(pixel)] = pixel\n",
    "        pixel_prev = pixel.copy()\n",
    "        i += 1\n",
    "\n",
    "    # Index\n",
    "    elif byte_bin[:2] == '00':\n",
    "        index = int(byte_bin[2:], 2)\n",
    "        pixel = memory[index].copy()\n",
    "        # memory[index_hash(pixel)] = pixel\n",
    "        img_line = np.concatenate((img_line, np.expand_dims(pixel, axis=0)))\n",
    "\n",
    "        pixel_prev = pixel.copy()\n",
    "        i += 1\n"
   ]
  },
  {
   "cell_type": "code",
   "execution_count": 9,
   "metadata": {},
   "outputs": [
    {
     "name": "stdout",
     "output_type": "stream",
     "text": [
      "(240000, 3)\n"
     ]
    }
   ],
   "source": [
    "print(img_line.shape)"
   ]
  },
  {
   "cell_type": "code",
   "execution_count": 10,
   "metadata": {},
   "outputs": [
    {
     "data": {
      "text/plain": [
       "True"
      ]
     },
     "execution_count": 10,
     "metadata": {},
     "output_type": "execute_result"
    }
   ],
   "source": [
    "\n",
    "# cv2.imwrite('out.png', img_line.copy().reshape((256, 256, 4)))\n",
    "cv2.imwrite('out.png', img_line.copy().reshape((400, 600, 3)))"
   ]
  },
  {
   "cell_type": "code",
   "execution_count": 30,
   "metadata": {},
   "outputs": [
    {
     "name": "stdout",
     "output_type": "stream",
     "text": [
      "corrupted file\n",
      "b'\\x00\\x00\\xfe#?u\\xfec'\n"
     ]
    },
    {
     "ename": "KeyError",
     "evalue": "279427342007907",
     "output_type": "error",
     "traceback": [
      "\u001b[0;31m---------------------------------------------------------------------------\u001b[0m",
      "\u001b[0;31mKeyError\u001b[0m                                  Traceback (most recent call last)",
      "\u001b[0;32m<ipython-input-30-9f09ac0d3ba0>\u001b[0m in \u001b[0;36m<module>\u001b[0;34m\u001b[0m\n\u001b[1;32m     88\u001b[0m         \u001b[0mprint\u001b[0m\u001b[0;34m(\u001b[0m\u001b[0mchunk\u001b[0m\u001b[0;34m)\u001b[0m\u001b[0;34m\u001b[0m\u001b[0;34m\u001b[0m\u001b[0m\n\u001b[1;32m     89\u001b[0m         \u001b[0mindex\u001b[0m \u001b[0;34m=\u001b[0m \u001b[0mint\u001b[0m\u001b[0;34m.\u001b[0m\u001b[0mfrom_bytes\u001b[0m\u001b[0;34m(\u001b[0m\u001b[0mchunk\u001b[0m\u001b[0;34m[\u001b[0m\u001b[0;36m2\u001b[0m\u001b[0;34m:\u001b[0m\u001b[0;34m]\u001b[0m\u001b[0;34m,\u001b[0m \u001b[0mbyteorder\u001b[0m\u001b[0;34m=\u001b[0m\u001b[0mBYTEORDER\u001b[0m\u001b[0;34m,\u001b[0m \u001b[0msigned\u001b[0m\u001b[0;34m=\u001b[0m\u001b[0;32mFalse\u001b[0m\u001b[0;34m)\u001b[0m\u001b[0;34m\u001b[0m\u001b[0;34m\u001b[0m\u001b[0m\n\u001b[0;32m---> 90\u001b[0;31m         \u001b[0mpixel\u001b[0m \u001b[0;34m=\u001b[0m \u001b[0mmemory\u001b[0m\u001b[0;34m[\u001b[0m\u001b[0mindex\u001b[0m\u001b[0;34m]\u001b[0m\u001b[0;34m.\u001b[0m\u001b[0mcopy\u001b[0m\u001b[0;34m(\u001b[0m\u001b[0;34m)\u001b[0m\u001b[0;34m\u001b[0m\u001b[0;34m\u001b[0m\u001b[0m\n\u001b[0m\u001b[1;32m     91\u001b[0m         \u001b[0;31m# memory[index_hash(pixel)] = pixel\u001b[0m\u001b[0;34m\u001b[0m\u001b[0;34m\u001b[0m\u001b[0;34m\u001b[0m\u001b[0m\n\u001b[1;32m     92\u001b[0m         \u001b[0mimg_line\u001b[0m \u001b[0;34m=\u001b[0m \u001b[0mnp\u001b[0m\u001b[0;34m.\u001b[0m\u001b[0mconcatenate\u001b[0m\u001b[0;34m(\u001b[0m\u001b[0;34m(\u001b[0m\u001b[0mimg_line\u001b[0m\u001b[0;34m,\u001b[0m \u001b[0mnp\u001b[0m\u001b[0;34m.\u001b[0m\u001b[0mexpand_dims\u001b[0m\u001b[0;34m(\u001b[0m\u001b[0mpixel\u001b[0m\u001b[0;34m,\u001b[0m \u001b[0maxis\u001b[0m\u001b[0;34m=\u001b[0m\u001b[0;36m0\u001b[0m\u001b[0;34m)\u001b[0m\u001b[0;34m)\u001b[0m\u001b[0;34m)\u001b[0m\u001b[0;34m\u001b[0m\u001b[0;34m\u001b[0m\u001b[0m\n",
      "\u001b[0;31mKeyError\u001b[0m: 279427342007907"
     ]
    }
   ],
   "source": [
    "nbytes = len(bytes)\n",
    "if nbytes % 8 != 0: print('corrupted file')\n",
    "\n",
    "if channels == 3:\n",
    "    img_line = np.empty((0, 3), dtype=np.uint8)\n",
    "elif channels == 4:\n",
    "    img_line = np.empty((0, 4), dtype=np.uint8)\n",
    "\n",
    "if channels == 3:\n",
    "    pixel_prev = np.array([0, 0, 0], dtype=np.uint8)\n",
    "elif channels == 4:\n",
    "    pixel_prev = np.array([0, 0, 0, 255], dtype=np.uint8)\n",
    "else: print('error: wrong number of channels')\n",
    "\n",
    "memory = {i: np.array([0, 0, 0]) for i in range(64)}\n",
    "i = 0\n",
    "while i < nbytes - 8:\n",
    "\n",
    "    chunk = bytes[i:i+8]\n",
    "    \n",
    "    # Original value (RGB)\n",
    "    if channels == 3 and chunk == b'\\x01\\x01\\x01\\x01\\x01\\x01\\x01\\x00':\n",
    "        # print('new')\n",
    "        r = bytes[i+8:i+16]\n",
    "        g = bytes[i+16:i+24]\n",
    "        b = bytes[i+24:i+32]\n",
    "        r_int = int.from_bytes(r, byteorder=BYTEORDER, signed=False)\n",
    "        g_int = int.from_bytes(g, byteorder=BYTEORDER, signed=False)\n",
    "        b_int = int.from_bytes(b, byteorder=BYTEORDER, signed=False)\n",
    "        pixel = np.array([r, g, b], dtype=np.uint8)\n",
    "        # memory[index_hash(pixel)] = pixel\n",
    "        img_line = np.concatenate((img_line, np.expand_dims(pixel, axis=0)))\n",
    "        i += 24\n",
    "    # Original value (RGBA)\n",
    "    elif channels == 4 and chunk == b'\\x01\\x01\\x01\\x01\\x01\\x01\\x01\\x01':\n",
    "        # print('new')\n",
    "        r = bytes[i+8:i+16]\n",
    "        g = bytes[i+16:i+24]\n",
    "        b = bytes[i+24:i+32]\n",
    "        a = bytes[i+32:i+40]\n",
    "        r_int = int.from_bytes(r, byteorder=BYTEORDER, signed=False)\n",
    "        g_int = int.from_bytes(g, byteorder=BYTEORDER, signed=False)\n",
    "        b_int = int.from_bytes(b, byteorder=BYTEORDER, signed=False)\n",
    "        a_int = int.from_bytes(a, byteorder=BYTEORDER, signed=False)\n",
    "        pixel = np.array([r, g, b, a], dtype=np.uint8)\n",
    "        # memory[index_hash(pixel)] = pixel\n",
    "        img_line = np.concatenate((img_line, np.expand_dims(pixel, axis=0)))\n",
    "        i += 32\n",
    "\n",
    "    # Run\n",
    "    elif chunk[:2] == b'\\x01\\x01':\n",
    "        # print('run')\n",
    "        run_len = int.from_bytes(chunk[2:], byteorder=BYTEORDER, signed=False)\n",
    "        pixels = np.full((run_len + 1, channels), pixel_prev, dtype=np.uint8)  # +1 here or encode run_len+1?\n",
    "        img_line = np.concatenate((img_line, pixels))\n",
    "\n",
    "    # Big dif\n",
    "    elif chunk[:2] == b'\\x01\\x00':\n",
    "        # print('bigdif')\n",
    "        dg = int.from_bytes(chunk[2:], byteorder=BYTEORDER, signed=True)\n",
    "        dr = int.from_bytes(bytes[i+8:i+12], byteorder=BYTEORDER, signed=True) + dg\n",
    "        db = int.from_bytes(bytes[i+12:i+16], byteorder=BYTEORDER, signed=True) + dg\n",
    "        if channels == 3: pixel_diff = np.array([dr, dg, db])\n",
    "        elif channels == 4: pixel_diff = np.array([dr, dg, db, 0])\n",
    "        pixel = (pixel_prev.copy() + pixel_diff).astype(np.uint8)\n",
    "        # memory[index_hash(pixel)] = pixel\n",
    "        img_line = np.concatenate((img_line, np.expand_dims(pixel, axis=0)))\n",
    "        i += 8\n",
    "    \n",
    "    # Small dif\n",
    "    elif chunk[:2] == b'\\x00\\x01':\n",
    "        # print('smalldif')\n",
    "        dr = int.from_bytes(chunk[2:4], byteorder=BYTEORDER, signed=True)\n",
    "        dg = int.from_bytes(chunk[4:6], byteorder=BYTEORDER, signed=True)\n",
    "        db = int.from_bytes(chunk[6:8], byteorder=BYTEORDER, signed=True)\n",
    "        if channels == 3: pixel_diff = np.array([dr, dg, db])\n",
    "        elif channels == 4: pixel_diff = np.array([dr, dg, db, 0])\n",
    "        pixel = (pixel_prev.copy() + pixel_diff).astype(np.uint8)\n",
    "        # memory[index_hash(pixel)] = pixel\n",
    "        img_line = np.concatenate((img_line, np.expand_dims(pixel, axis=0)))\n",
    "\n",
    "    # Index\n",
    "    elif chunk[:2] == b'\\x00\\x00':\n",
    "        # print('memory')\n",
    "        # mk = list(memory.keys())\n",
    "        # mk.sort()\n",
    "        # print(i, mk)\n",
    "        print(chunk)\n",
    "        index = int.from_bytes(chunk[2:], byteorder=BYTEORDER, signed=False)\n",
    "        pixel = memory[index].copy()\n",
    "        # memory[index_hash(pixel)] = pixel\n",
    "        img_line = np.concatenate((img_line, np.expand_dims(pixel, axis=0)))\n",
    "    \n",
    "    # Add pixel to memory\n",
    "    # print(index_hash(pixel), pixel)\n",
    "    memory[index_hash(pixel)] = pixel\n",
    "    pixel_prev = pixel.copy()\n",
    "\n",
    "    i += 8\n",
    "\n",
    "print(img_line)"
   ]
  },
  {
   "cell_type": "code",
   "execution_count": 187,
   "metadata": {},
   "outputs": [
    {
     "name": "stdout",
     "output_type": "stream",
     "text": [
      "(3,)\n",
      "[]\n"
     ]
    }
   ],
   "source": [
    "u = np.array([1, 2, 3])\n",
    "v = np.array([0, 0, 0])\n",
    "print(v.shape)\n",
    "\n",
    "a = np.empty((0, 3), dtype=np.uint8)\n",
    "print(a)\n",
    "b = np.full((10, 3), u)"
   ]
  },
  {
   "cell_type": "code",
   "execution_count": 205,
   "metadata": {},
   "outputs": [],
   "source": [
    "l = np.concatenate((a, b))"
   ]
  },
  {
   "cell_type": "code",
   "execution_count": 204,
   "metadata": {},
   "outputs": [
    {
     "data": {
      "text/plain": [
       "array([[1, 2, 3],\n",
       "       [1, 2, 3],\n",
       "       [1, 2, 3],\n",
       "       [1, 2, 3],\n",
       "       [1, 2, 3],\n",
       "       [1, 2, 3],\n",
       "       [1, 2, 3],\n",
       "       [1, 2, 3],\n",
       "       [1, 2, 3],\n",
       "       [1, 2, 3],\n",
       "       [0, 0, 0]])"
      ]
     },
     "execution_count": 204,
     "metadata": {},
     "output_type": "execute_result"
    }
   ],
   "source": [
    "np.concatenate((l, np.expand_dims(v, axis=0)))"
   ]
  },
  {
   "cell_type": "code",
   "execution_count": 268,
   "metadata": {},
   "outputs": [],
   "source": [
    "u = np.array([10, 28, 31], dtype=np.uint8)"
   ]
  },
  {
   "cell_type": "code",
   "execution_count": 269,
   "metadata": {},
   "outputs": [
    {
     "name": "stdout",
     "output_type": "stream",
     "text": [
      "[10 28 31]\n"
     ]
    }
   ],
   "source": [
    "print(u)"
   ]
  },
  {
   "cell_type": "code",
   "execution_count": 273,
   "metadata": {},
   "outputs": [
    {
     "data": {
      "text/plain": [
       "array([  4, 216,  38], dtype=uint8)"
      ]
     },
     "execution_count": 273,
     "metadata": {},
     "output_type": "execute_result"
    }
   ],
   "source": [
    "26*u"
   ]
  },
  {
   "cell_type": "code",
   "execution_count": 66,
   "metadata": {},
   "outputs": [
    {
     "name": "stdout",
     "output_type": "stream",
     "text": [
      "11010001\n",
      "b'\\xd1'\n"
     ]
    }
   ],
   "source": [
    "u = '11{0:06b}'.format(17)\n",
    "print(u)\n",
    "\n",
    "ub = int(u, 2).to_bytes(1, byteorder=BYTEORDER, signed=False)\n",
    "print(ub)"
   ]
  },
  {
   "cell_type": "code",
   "execution_count": 16,
   "metadata": {},
   "outputs": [],
   "source": []
  },
  {
   "cell_type": "code",
   "execution_count": 39,
   "metadata": {},
   "outputs": [
    {
     "data": {
      "text/plain": [
       "256"
      ]
     },
     "execution_count": 39,
     "metadata": {},
     "output_type": "execute_result"
    }
   ],
   "source": [
    "int.from_bytes(b'\\x00\\x00\\x00\\x00\\x01\\x00', byteorder=BYTEORDER, signed=False)"
   ]
  },
  {
   "cell_type": "code",
   "execution_count": 75,
   "metadata": {},
   "outputs": [
    {
     "data": {
      "text/plain": [
       "'01'"
      ]
     },
     "execution_count": 75,
     "metadata": {},
     "output_type": "execute_result"
    }
   ],
   "source": [
    "r = -1\n",
    "'{0:02b}'.format(r + 2)"
   ]
  },
  {
   "cell_type": "code",
   "execution_count": 88,
   "metadata": {},
   "outputs": [
    {
     "name": "stdout",
     "output_type": "stream",
     "text": [
      "[b'\\x82', b'\\xfb']\n"
     ]
    },
    {
     "data": {
      "text/plain": [
       "b'\\x82\\xfb'"
      ]
     },
     "execution_count": 88,
     "metadata": {},
     "output_type": "execute_result"
    }
   ],
   "source": [
    "dg = -30\n",
    "dr_dg = 7\n",
    "db_dg = 3\n",
    "\n",
    "vals = ['10' + '{0:06b}'.format(dg+32), '{0:04b}'.format(dr_dg+8) + '{0:04b}'.format(db_dg+8)]\n",
    "vals_b = [int(val, 2).to_bytes(1, byteorder=BYTEORDER, signed=False) for val in vals]\n",
    "print(vals_b)\n",
    "vals_b[0] + vals_b[1]\n"
   ]
  },
  {
   "cell_type": "code",
   "execution_count": null,
   "metadata": {},
   "outputs": [],
   "source": []
  }
 ],
 "metadata": {
  "interpreter": {
   "hash": "397704579725e15f5c7cb49fe5f0341eb7531c82d19f2c29d197e8b64ab5776b"
  },
  "kernelspec": {
   "display_name": "Python 3.9.0 64-bit",
   "language": "python",
   "name": "python3"
  },
  "language_info": {
   "codemirror_mode": {
    "name": "ipython",
    "version": 3
   },
   "file_extension": ".py",
   "mimetype": "text/x-python",
   "name": "python",
   "nbconvert_exporter": "python",
   "pygments_lexer": "ipython3",
   "version": "3.9.0"
  },
  "orig_nbformat": 4
 },
 "nbformat": 4,
 "nbformat_minor": 2
}
