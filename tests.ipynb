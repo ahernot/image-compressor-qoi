{
 "cells": [
  {
   "cell_type": "code",
   "execution_count": 22,
   "metadata": {},
   "outputs": [],
   "source": [
    "BYTEORDER = 'big'"
   ]
  },
  {
   "cell_type": "code",
   "execution_count": 23,
   "metadata": {},
   "outputs": [],
   "source": [
    "# Generate header\n",
    "\n",
    "width = 2048\n",
    "width_b = width.to_bytes(4, byteorder=BYTEORDER, signed=False)\n",
    "\n",
    "height = 2048\n",
    "height_b = height.to_bytes(4, byteorder=BYTEORDER, signed=False)\n",
    "\n",
    "channels = 3\n",
    "channels_b = channels.to_bytes(1, byteorder=BYTEORDER, signed=False)\n",
    "\n",
    "colorspace = 0\n",
    "colorspace_b = colorspace.to_bytes(1, byteorder=BYTEORDER, signed=False)\n",
    "\n",
    "header = b'qoif' + width_b + height_b + channels_b + colorspace_b"
   ]
  },
  {
   "cell_type": "code",
   "execution_count": 26,
   "metadata": {},
   "outputs": [
    {
     "name": "stdout",
     "output_type": "stream",
     "text": [
      "b'qoif\\x00\\x00\\x08\\x00\\x00\\x00\\x08\\x00\\x03\\x00'\n"
     ]
    }
   ],
   "source": [
    "with open('out.bin', 'wb') as out_bin:\n",
    "    out_bin.write(header)"
   ]
  },
  {
   "cell_type": "code",
   "execution_count": null,
   "metadata": {},
   "outputs": [],
   "source": []
  }
 ],
 "metadata": {
  "interpreter": {
   "hash": "397704579725e15f5c7cb49fe5f0341eb7531c82d19f2c29d197e8b64ab5776b"
  },
  "kernelspec": {
   "display_name": "Python 3.9.0 64-bit",
   "language": "python",
   "name": "python3"
  },
  "language_info": {
   "codemirror_mode": {
    "name": "ipython",
    "version": 3
   },
   "file_extension": ".py",
   "mimetype": "text/x-python",
   "name": "python",
   "nbconvert_exporter": "python",
   "pygments_lexer": "ipython3",
   "version": "3.9.0"
  },
  "orig_nbformat": 4
 },
 "nbformat": 4,
 "nbformat_minor": 2
}
