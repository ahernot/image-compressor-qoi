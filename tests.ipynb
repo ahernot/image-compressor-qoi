{
 "cells": [
  {
   "cell_type": "code",
   "execution_count": 102,
   "metadata": {},
   "outputs": [],
   "source": [
    "import cv2\n",
    "import numpy as np\n",
    "\n",
    "BYTEORDER = 'little'"
   ]
  },
  {
   "cell_type": "code",
   "execution_count": 103,
   "metadata": {},
   "outputs": [],
   "source": [
    "# Generate end marker\n",
    "i0, i1 = 0, 1\n",
    "b0, b1 = i0.to_bytes(1, byteorder=BYTEORDER, signed=False), i1.to_bytes(1, byteorder=BYTEORDER, signed=False)\n",
    "end_marker = i0.to_bytes(7, byteorder=BYTEORDER, signed=False) + i1.to_bytes(1, byteorder=BYTEORDER, signed=False)"
   ]
  },
  {
   "cell_type": "code",
   "execution_count": 104,
   "metadata": {},
   "outputs": [],
   "source": [
    "def index_hash (pixel: np.ndarray):\n",
    "    if pixel.shape == 3:\n",
    "        r, g, b, a = pixel\n",
    "        index_position = (r * 3 + g * 5 + b * 7 + a * 11) % 64\n",
    "    else:\n",
    "        r, g, b = pixel\n",
    "        index_position = (r * 3 + g * 5 + b * 7) % 64\n",
    "    return int(index_position)"
   ]
  },
  {
   "cell_type": "code",
   "execution_count": 126,
   "metadata": {},
   "outputs": [
    {
     "name": "stdout",
     "output_type": "stream",
     "text": [
      "Estimated processing time: 40s\n"
     ]
    }
   ],
   "source": [
    "path = 'src/IMG_0036-v3-duplicate-downres.jpeg'\n",
    "\n",
    "img = cv2.imread(path)\n",
    "height, width, channels = img.shape\n",
    "colorspace = 0  # srgb\n",
    "\n",
    "if channels == 3:\n",
    "    pixel_prev = np.array([0, 0, 0])\n",
    "elif channels == 4:\n",
    "    pixel_prev = np.array([0, 0, 0, 255])\n",
    "else: print('error: wrong number of channels')\n",
    "\n",
    "img_line = img.reshape((-1, 3))\n",
    "print(f'Estimated processing time: {round(img_line.shape[0]/6000)}s')"
   ]
  },
  {
   "cell_type": "markdown",
   "metadata": {},
   "source": [
    "## Encoding"
   ]
  },
  {
   "cell_type": "code",
   "execution_count": null,
   "metadata": {},
   "outputs": [],
   "source": [
    "# Generate header\n",
    "width_b = width.to_bytes(4, byteorder=BYTEORDER, signed=False)\n",
    "height_b = height.to_bytes(4, byteorder=BYTEORDER, signed=False)\n",
    "channels_b = channels.to_bytes(1, byteorder=BYTEORDER, signed=False)\n",
    "colorspace_b = colorspace.to_bytes(1, byteorder=BYTEORDER, signed=False)\n",
    "\n",
    "header = b'qoif' + width_b + height_b + channels_b + colorspace_b"
   ]
  },
  {
   "cell_type": "code",
   "execution_count": 121,
   "metadata": {},
   "outputs": [],
   "source": [
    "bytes = b''\n",
    "\n",
    "run_len = 0\n",
    "run = False\n",
    "memory = dict()\n",
    "for pixel in img_line:\n",
    "\n",
    "    # Unpack pixel\n",
    "    if channels == 3:\n",
    "        r, g, b = pixel\n",
    "        r_prev, g_prev, b_prev = pixel_prev\n",
    "        a, a_prev = 255, 255\n",
    "    elif channels == 4:\n",
    "        r, g, b, a = pixel\n",
    "        r_prev, g_prev, b_prev, a_prev = pixel_prev\n",
    "\n",
    "\n",
    "    # Run-length encoding\n",
    "    if (pixel == pixel_prev).all() and run_len < 63:\n",
    "        # print('run')\n",
    "        run_len += 1\n",
    "        run = True\n",
    "\n",
    "\n",
    "    else:\n",
    "        # End run-length\n",
    "        if run == True:\n",
    "            tag = b1 + b1\n",
    "            val = run_len.to_bytes(6, byteorder=BYTEORDER, signed=True)\n",
    "            bytes += (tag + val)  # write\n",
    "            run_len = 0\n",
    "            run = False\n",
    "\n",
    "        # Memory search\n",
    "        flag = False\n",
    "        for key in memory.keys():\n",
    "            if (memory[key] == pixel).all():\n",
    "                # print('from memory')\n",
    "                tag = b0 + b0\n",
    "                val = key.to_bytes(6, byteorder=BYTEORDER, signed=False)\n",
    "                flag = True\n",
    "                break\n",
    "        \n",
    "        if flag == False:\n",
    "            \n",
    "            dr = int(r) - int(r_prev)\n",
    "            dg = int(g) - int(g_prev)\n",
    "            db = int(b) - int(b_prev)\n",
    "            da = int(a) - int(a_prev)\n",
    "\n",
    "            # Diff\n",
    "            if dr in range(-2, 2) and dg in range(-2, 2) and db in range(-2, 2) and da == 0:\n",
    "                # print('smalldif')\n",
    "                tag = b0 + b1\n",
    "                val = dr.to_bytes(2, byteorder=BYTEORDER, signed=True) + dg.to_bytes(2, byteorder=BYTEORDER, signed=True) + db.to_bytes(2, byteorder=BYTEORDER, signed=True)\n",
    "            \n",
    "            # Luma\n",
    "            else:\n",
    "                dr_dg = dr - dg\n",
    "                db_dg = db - dg\n",
    "                \n",
    "                if dg in range(-32, 32) and dr_dg in range(-8, 8) and db_dg in range(-8, 8) and da == 0:\n",
    "                    # print('bigdif')\n",
    "                    tag = b1 + b0\n",
    "                    val = dr.to_bytes(6, byteorder=BYTEORDER, signed=True) + dr_dg.to_bytes(4, byteorder=BYTEORDER, signed=True) + db_dg.to_bytes(4, byteorder=BYTEORDER, signed=True)\n",
    "\n",
    "                # New pixel\n",
    "                else:\n",
    "                    # print('new')\n",
    "                    if channels == 3:\n",
    "                        tag = i1.to_bytes(7, byteorder=BYTEORDER, signed=False) + i0.to_bytes(1, byteorder=BYTEORDER, signed=False)\n",
    "                        val = int(r).to_bytes(8, byteorder=BYTEORDER, signed=False) + int(g).to_bytes(8, byteorder=BYTEORDER, signed=False) + int(b).to_bytes(8, byteorder=BYTEORDER, signed=False)\n",
    "                    elif channels == 4:\n",
    "                        tag = i1.to_bytes(8, byteorder=BYTEORDER, signed=False)\n",
    "                        val = int(r).to_bytes(8, byteorder=BYTEORDER, signed=False) + int(g).to_bytes(8, byteorder=BYTEORDER, signed=False) + int(b).to_bytes(8, byteorder=BYTEORDER, signed=False) + int(a).to_bytes(8, byteorder=BYTEORDER, signed=False)\n",
    "\n",
    "        # Write\n",
    "        bytes += (tag + val)\n",
    "\n",
    "    # Add pixel to memory\n",
    "    memory[index_hash(pixel)] = pixel\n",
    "    pixel_prev = pixel.copy()"
   ]
  },
  {
   "cell_type": "code",
   "execution_count": 116,
   "metadata": {},
   "outputs": [],
   "source": [
    "with open('out.bin', 'wb') as out_bin:\n",
    "    out_bin.write(header)\n",
    "    out_bin.write(bytes)\n",
    "    out_bin.write(end_marker)\n"
   ]
  },
  {
   "cell_type": "markdown",
   "metadata": {},
   "source": [
    "## Decoding"
   ]
  },
  {
   "cell_type": "code",
   "execution_count": 151,
   "metadata": {},
   "outputs": [],
   "source": [
    "with open('out.bin', 'rb') as in_bin:\n",
    "    img_bytes = in_bin.read()\n",
    "\n",
    "header = img_bytes[:14]\n",
    "bytes = img_bytes[14:-8]\n",
    "# end_marker = img_bytes[-8:]"
   ]
  },
  {
   "cell_type": "code",
   "execution_count": null,
   "metadata": {},
   "outputs": [],
   "source": [
    "### TODO: READ NB OF CHANNELS\n",
    "\n",
    "if channels == 3:\n",
    "    pixel_prev = np.array([0, 0, 0])\n",
    "elif channels == 4:\n",
    "    pixel_prev = np.array([0, 0, 0, 255])\n",
    "else: print('error: wrong number of channels')"
   ]
  },
  {
   "cell_type": "code",
   "execution_count": 206,
   "metadata": {},
   "outputs": [
    {
     "name": "stdout",
     "output_type": "stream",
     "text": [
      "[[124   0   0]\n",
      " [250   0   0]\n",
      " [258   9   5]\n",
      " [271  16  17]\n",
      " [412  16  17]\n",
      " [414  21  22]\n",
      " [418  25  26]\n",
      " [565  25  26]\n",
      " [570  33  34]]\n"
     ]
    }
   ],
   "source": [
    "nbytes = len(bytes)\n",
    "if nbytes % 8 != 0: print('corrupted file')\n",
    "# for i in range(0, nbytes, 8):\n",
    "\n",
    "if channels == 3:\n",
    "    img_line = np.empty((0, 3), dtype=np.uint8)\n",
    "elif channels == 4:\n",
    "    img_line = np.empty((0, 4), dtype=np.uint8)\n",
    "\n",
    "memory = dict()\n",
    "i = 0\n",
    "while i < nbytes - 8:\n",
    "    chunk = bytes[i:i+8]\n",
    "    \n",
    "    # Original value (RGB)\n",
    "    if channels == 3 and chunk == b'\\x01\\x01\\x01\\x01\\x01\\x01\\x01\\x00':\n",
    "        r = bytes[i+8:i+16]\n",
    "        g = bytes[i+16:i+24]\n",
    "        b = bytes[i+24:i+32]\n",
    "        r_int = int.from_bytes(r, byteorder=BYTEORDER, signed=False)\n",
    "        g_int = int.from_bytes(g, byteorder=BYTEORDER, signed=False)\n",
    "        b_int = int.from_bytes(b, byteorder=BYTEORDER, signed=False)\n",
    "        pixel = np.array([r, g, b])\n",
    "        img_line = np.concatenate((img_line, np.expand_dims(pixel, axis=0)))\n",
    "        i += 24\n",
    "    # Original value (RGBA)\n",
    "    elif channels == 4 and chunk == b'\\x01\\x01\\x01\\x01\\x01\\x01\\x01\\x01':\n",
    "        r = bytes[i+8:i+16]\n",
    "        g = bytes[i+16:i+24]\n",
    "        b = bytes[i+24:i+32]\n",
    "        a = bytes[i+32:i+40]\n",
    "        r_int = int.from_bytes(r, byteorder=BYTEORDER, signed=False)\n",
    "        g_int = int.from_bytes(g, byteorder=BYTEORDER, signed=False)\n",
    "        b_int = int.from_bytes(b, byteorder=BYTEORDER, signed=False)\n",
    "        a_int = int.from_bytes(a, byteorder=BYTEORDER, signed=False)\n",
    "        pixel = np.array([r, g, b, a])\n",
    "        img_line = np.concatenate((img_line, np.expand_dims(pixel, axis=0)))\n",
    "        i += 32\n",
    "\n",
    "    # Big dif\n",
    "    elif chunk[:2] == b'\\x01\\x00':\n",
    "        dg = int.from_bytes(chunk[2:], byteorder=BYTEORDER, signed=True)\n",
    "        dr = int.from_bytes(bytes[i+8:i+12], byteorder=BYTEORDER, signed=True) + dg\n",
    "        db = int.from_bytes(bytes[i+12:i+16], byteorder=BYTEORDER, signed=True) + dg\n",
    "        if channels == 3: pixel_diff = np.array([dr, dg, db])\n",
    "        elif channels == 4: pixel_diff = np.array([dr, dg, db, 0])\n",
    "        pixel = pixel_prev.copy() + pixel_diff\n",
    "        img_line = np.concatenate((img_line, np.expand_dims(pixel, axis=0)))\n",
    "        i += 8\n",
    "    \n",
    "    # Small dif\n",
    "    elif chunk[:2] == b'\\x00\\x01':\n",
    "        dr = int.from_bytes(chunk[2:4], byteorder=BYTEORDER, signed=True)\n",
    "        dg = int.from_bytes(chunk[4:6], byteorder=BYTEORDER, signed=True)\n",
    "        db = int.from_bytes(chunk[6:8], byteorder=BYTEORDER, signed=True)\n",
    "        if channels == 3: pixel_diff = np.array([dr, dg, db])\n",
    "        elif channels == 4: pixel_diff = np.array([dr, dg, db, 0])\n",
    "        pixel = pixel_prev.copy() + pixel_diff\n",
    "        img_line = np.concatenate((img_line, np.expand_dims(pixel, axis=0)))\n",
    "\n",
    "    # Index\n",
    "    elif chunk[:2] == b'\\x00\\x00':\n",
    "        index = int.from_bytes(chunk[2:], byteorder=BYTEORDER, signed=False)\n",
    "        pixel = memory[index].copy()\n",
    "        img_line = np.concatenate((img_line, np.expand_dims(pixel, axis=0)))\n",
    "\n",
    "    # Run\n",
    "    elif chunk[:2] == b'\\x01\\x01':\n",
    "        run_len = int.from_bytes(chunk[2:], byteorder=BYTEORDER, signed=False)\n",
    "        pixels = np.full((run_len, channels), pixel_prev)\n",
    "        img_line = np.concatenate((img_line, pixels))\n",
    "    \n",
    "    # Add pixel to memory\n",
    "    memory[index_hash(pixel)] = pixel\n",
    "    pixel_prev = pixel.copy()\n",
    "\n",
    "    i += 8\n",
    "\n",
    "print(img_line)"
   ]
  },
  {
   "cell_type": "code",
   "execution_count": 187,
   "metadata": {},
   "outputs": [
    {
     "name": "stdout",
     "output_type": "stream",
     "text": [
      "(3,)\n",
      "[]\n"
     ]
    }
   ],
   "source": [
    "u = np.array([1, 2, 3])\n",
    "v = np.array([0, 0, 0])\n",
    "print(v.shape)\n",
    "\n",
    "a = np.empty((0, 3), dtype=np.uint8)\n",
    "print(a)\n",
    "b = np.full((10, 3), u)"
   ]
  },
  {
   "cell_type": "code",
   "execution_count": 205,
   "metadata": {},
   "outputs": [],
   "source": [
    "l = np.concatenate((a, b))"
   ]
  },
  {
   "cell_type": "code",
   "execution_count": 204,
   "metadata": {},
   "outputs": [
    {
     "data": {
      "text/plain": [
       "array([[1, 2, 3],\n",
       "       [1, 2, 3],\n",
       "       [1, 2, 3],\n",
       "       [1, 2, 3],\n",
       "       [1, 2, 3],\n",
       "       [1, 2, 3],\n",
       "       [1, 2, 3],\n",
       "       [1, 2, 3],\n",
       "       [1, 2, 3],\n",
       "       [1, 2, 3],\n",
       "       [0, 0, 0]])"
      ]
     },
     "execution_count": 204,
     "metadata": {},
     "output_type": "execute_result"
    }
   ],
   "source": [
    "np.concatenate((l, np.expand_dims(v, axis=0)))"
   ]
  },
  {
   "cell_type": "code",
   "execution_count": null,
   "metadata": {},
   "outputs": [],
   "source": []
  }
 ],
 "metadata": {
  "interpreter": {
   "hash": "397704579725e15f5c7cb49fe5f0341eb7531c82d19f2c29d197e8b64ab5776b"
  },
  "kernelspec": {
   "display_name": "Python 3.9.0 64-bit",
   "language": "python",
   "name": "python3"
  },
  "language_info": {
   "codemirror_mode": {
    "name": "ipython",
    "version": 3
   },
   "file_extension": ".py",
   "mimetype": "text/x-python",
   "name": "python",
   "nbconvert_exporter": "python",
   "pygments_lexer": "ipython3",
   "version": "3.9.0"
  },
  "orig_nbformat": 4
 },
 "nbformat": 4,
 "nbformat_minor": 2
}
