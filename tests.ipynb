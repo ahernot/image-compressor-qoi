{
 "cells": [
  {
   "cell_type": "code",
   "execution_count": 3,
   "metadata": {},
   "outputs": [],
   "source": [
    "import cv2\n",
    "import numpy as np\n",
    "import os\n",
    "\n",
    "BYTEORDER = 'big'  # endianness is intra-byte (?)\n",
    "# specs: https://qoiformat.org/qoi-specification.pdf"
   ]
  },
  {
   "cell_type": "code",
   "execution_count": 4,
   "metadata": {},
   "outputs": [],
   "source": [
    "# Generate end marker\n",
    "i0, i1 = 0, 1\n",
    "b0, b1 = i0.to_bytes(1, byteorder=BYTEORDER, signed=False), i1.to_bytes(1, byteorder=BYTEORDER, signed=False)\n",
    "end_marker = i0.to_bytes(7, byteorder=BYTEORDER, signed=False) + i1.to_bytes(1, byteorder=BYTEORDER, signed=False)"
   ]
  },
  {
   "cell_type": "code",
   "execution_count": 5,
   "metadata": {},
   "outputs": [],
   "source": [
    "def index_hash (pixel: np.ndarray):\n",
    "    if pixel.shape[0] == 4:\n",
    "        r, g, b, a = pixel\n",
    "        index_position = (r * 3 + g * 5 + b * 7 + a * 11) % 64\n",
    "    elif pixel.shape[0] == 3:\n",
    "        r, g, b = pixel  # a = 0\n",
    "        index_position = (r * 3 + g * 5 + b * 7) % 64\n",
    "    else:\n",
    "        print(pixel, pixel.shape)\n",
    "        raise ValueError('Wrong pixel shape')\n",
    "    return int(index_position)"
   ]
  },
  {
   "cell_type": "code",
   "execution_count": 6,
   "metadata": {},
   "outputs": [
    {
     "name": "stdout",
     "output_type": "stream",
     "text": [
      "Loaded image src/IMG_0036-v3-duplicate-downres.jpeg (600x400) with 3 channels.\n",
      "Estimated processing time: 40s\n"
     ]
    }
   ],
   "source": [
    "path = 'src/IMG_0036-v3-duplicate-downres.jpeg'\n",
    "\n",
    "img = cv2.imread(path)\n",
    "height, width, channels = img.shape\n",
    "colorspace = 0  # srgb\n",
    "\n",
    "basename = os.path.basename(path)\n",
    "filename, ext = os.path.splitext(basename)\n",
    "\n",
    "print(f'Loaded image {path} ({width}x{height}) with {channels} channels.')\n",
    "\n",
    "if channels == 3:\n",
    "    pixel_prev = np.array([0, 0, 0])\n",
    "elif channels == 4:\n",
    "    pixel_prev = np.array([0, 0, 0, 255])\n",
    "else: print('error: wrong number of channels')\n",
    "\n",
    "img_line = img.reshape((-1, 3))\n",
    "print(f'Estimated processing time: {round(img_line.shape[0]/6000)}s')"
   ]
  },
  {
   "cell_type": "markdown",
   "metadata": {},
   "source": [
    "## Encoding"
   ]
  },
  {
   "cell_type": "code",
   "execution_count": 7,
   "metadata": {},
   "outputs": [],
   "source": [
    "# Generate header\n",
    "width_b = width.to_bytes(4, byteorder=BYTEORDER, signed=False)\n",
    "height_b = height.to_bytes(4, byteorder=BYTEORDER, signed=False)\n",
    "channels_b = channels.to_bytes(1, byteorder=BYTEORDER, signed=False)\n",
    "colorspace_b = colorspace.to_bytes(1, byteorder=BYTEORDER, signed=False)\n",
    "\n",
    "header = b'qoif' + width_b + height_b + channels_b + colorspace_b"
   ]
  },
  {
   "cell_type": "code",
   "execution_count": 8,
   "metadata": {},
   "outputs": [],
   "source": [
    "bytes = b''\n",
    "\n",
    "# Initialise run length encoding buffer\n",
    "run_len = 0\n",
    "run = False\n",
    "\n",
    "# Initialise memory\n",
    "if channels == 3:\n",
    "    memory = {i: np.array([0, 0, 0]) for i in range(64)}\n",
    "elif channels == 4:\n",
    "    memory = {i: np.array([0, 0, 0, 255]) for i in range(64)}\n",
    "\n",
    "for pixel in img_line:\n",
    "\n",
    "    # Unpack pixel\n",
    "    if channels == 3:\n",
    "        r, g, b = pixel\n",
    "        r_prev, g_prev, b_prev = pixel_prev\n",
    "        a, a_prev = 255, 255\n",
    "    elif channels == 4:\n",
    "        r, g, b, a = pixel\n",
    "        r_prev, g_prev, b_prev, a_prev = pixel_prev\n",
    "\n",
    "\n",
    "    # Run-length encoding\n",
    "    if (pixel == pixel_prev).all() and run_len < 63:\n",
    "        # print('run')\n",
    "        run_len += 1\n",
    "        run = True\n",
    "\n",
    "\n",
    "    else:\n",
    "        # End run-length\n",
    "        if run == True:\n",
    "            val = '11' + '{0:06b}'.format(run_len - 1)  # store with a bias of -1 (to make full use of the 6-bit \n",
    "            val_b = int(val, 2).to_bytes(1, byteorder=BYTEORDER, signed=False)\n",
    "            bytes += val_b  # write\n",
    "            run_len = 0\n",
    "            run = False\n",
    "\n",
    "        # Memory search\n",
    "        flag = False\n",
    "        for key in memory.keys():\n",
    "            if (memory[key] == pixel).all():\n",
    "                # print('from memory')\n",
    "                val = '00' + '{0:06b}'.format(key)\n",
    "                val_b = int(val, 2).to_bytes(1, byteorder=BYTEORDER, signed=False)\n",
    "                flag = True\n",
    "                break\n",
    "        \n",
    "        if flag == False:\n",
    "            \n",
    "            dr = (int(r) - int(r_prev)) % 256\n",
    "            dg = (int(g) - int(g_prev)) % 256\n",
    "            db = (int(b) - int(b_prev)) % 256\n",
    "            da = (int(a) - int(a_prev)) % 256\n",
    "\n",
    "            # Diff\n",
    "            if dr in range(-2, 2) and dg in range(-2, 2) and db in range(-2, 2) and da == 0:\n",
    "                # print('smalldif')\n",
    "                val = '01' + '{0:02b}'.format(dr+2) + '{0:02b}'.format(dg+2) + '{0:02b}'.format(db+2)\n",
    "                val_b = int(val, 2).to_bytes(1, byteorder=BYTEORDER, signed=False)\n",
    "            \n",
    "            # Luma\n",
    "            else:\n",
    "                dr_dg = (dr - dg) % 256\n",
    "                db_dg = (db - dg) % 256\n",
    "                \n",
    "                if dg in range(-32, 32) and dr_dg in range(-8, 8) and db_dg in range(-8, 8) and da == 0:\n",
    "                    # print('bigdif')\n",
    "                    vals = ['10' + '{0:06b}'.format(dg+32), '{0:04b}'.format(dr_dg+8) + '{0:04b}'.format(db_dg+8)]\n",
    "                    vals_b = [int(val, 2).to_bytes(1, byteorder=BYTEORDER, signed=False) for val in vals]\n",
    "                    val_b = vals_b[0] + vals_b[1]\n",
    "                \n",
    "                # New pixel\n",
    "                else:\n",
    "                    # print('new')\n",
    "                    if channels == 3 or (channels == 4 and da == 0):\n",
    "                        vals = ['11111110', '{0:08b}'.format(int(r)), '{0:08b}'.format(int(g)), '{0:08b}'.format(int(b))]\n",
    "                        vals_b = [int(val, 2).to_bytes(1, byteorder=BYTEORDER, signed=False) for val in vals]\n",
    "                        val_b = vals_b[0] + vals_b[1] + vals_b[2] + vals_b[3]\n",
    "                        # tag = i1.to_bytes(7, byteorder=BYTEORDER, signed=False) + i0.to_bytes(1, byteorder=BYTEORDER, signed=False)\n",
    "                        # val = int(r).to_bytes(8, byteorder=BYTEORDER, signed=False) + int(g).to_bytes(8, byteorder=BYTEORDER, signed=False) + int(b).to_bytes(8, byteorder=BYTEORDER, signed=False)\n",
    "                    elif channels == 4:\n",
    "                        vals = ['11111111', '{0:08b}'.format(int(r)), '{0:08b}'.format(int(g)), '{0:08b}'.format(int(b)), '{0:08b}'.format(int(a))]\n",
    "                        vals_b = [int(val, 2).to_bytes(1, byteorder=BYTEORDER, signed=False) for val in vals]\n",
    "                        val_b = vals_b[0] + vals_b[1] + vals_b[2] + vals_b[3] + vals_b[4]\n",
    "                        # tag = i1.to_bytes(8, byteorder=BYTEORDER, signed=False)\n",
    "                        # val = int(r).to_bytes(8, byteorder=BYTEORDER, signed=False) + int(g).to_bytes(8, byteorder=BYTEORDER, signed=False) + int(b).to_bytes(8, byteorder=BYTEORDER, signed=False) + int(a).to_bytes(8, byteorder=BYTEORDER, signed=False)\n",
    "\n",
    "        # Write\n",
    "        bytes += val_b\n",
    "\n",
    "    # Add pixel to memory\n",
    "    memory[index_hash(pixel)] = pixel\n",
    "    pixel_prev = pixel.copy()"
   ]
  },
  {
   "cell_type": "code",
   "execution_count": 9,
   "metadata": {},
   "outputs": [],
   "source": [
    "with open(f'{filename}.qoi', 'wb') as out_bin:\n",
    "    out_bin.write(header)\n",
    "    out_bin.write(bytes)\n",
    "    out_bin.write(end_marker)"
   ]
  },
  {
   "cell_type": "markdown",
   "metadata": {},
   "source": [
    "<br><br>"
   ]
  },
  {
   "cell_type": "markdown",
   "metadata": {},
   "source": [
    "## Decoding"
   ]
  },
  {
   "cell_type": "code",
   "execution_count": 10,
   "metadata": {},
   "outputs": [
    {
     "name": "stdout",
     "output_type": "stream",
     "text": [
      "Decoding image src/wikipedia_008.qoi (1152x858) with 3 channels.\n"
     ]
    }
   ],
   "source": [
    "# path = 'src/testcard.qoi'\n",
    "# path = 'IMG_0036-v3-duplicate-downres.qoi'\n",
    "path = 'src/wikipedia_008.qoi'\n",
    "\n",
    "with open(path, 'rb') as in_bin:\n",
    "    img_bytes = in_bin.read()\n",
    "\n",
    "basename = os.path.basename(path)\n",
    "filename, ext = os.path.splitext(basename)\n",
    "\n",
    "header = img_bytes[:14]\n",
    "bytes = img_bytes[14:-8]\n",
    "end_marker = img_bytes[-8:]\n",
    "\n",
    "tag = header[:4].decode('utf-8')\n",
    "width = int.from_bytes(header[4:8], BYTEORDER)\n",
    "height = int.from_bytes(header[8:12], BYTEORDER)\n",
    "channels = header[12]\n",
    "colorspace = header[12]\n",
    "\n",
    "print(f'Decoding image {path} ({width}x{height}) with {channels} channels.')\n",
    "\n",
    "if channels not in (3, 4):\n",
    "    raise ValueError('Corrupted header: wrong number of channels.')\n",
    "\n",
    "print(f'Estimated processing time: {round(width * height / 6000)}s')"
   ]
  },
  {
   "cell_type": "code",
   "execution_count": 11,
   "metadata": {},
   "outputs": [],
   "source": [
    "nbytes = len(bytes)\n",
    "\n",
    "# Pregen\n",
    "if channels == 3:\n",
    "    img_line = np.empty((0, 3), dtype=np.uint8)\n",
    "    pixel_prev = np.array([0, 0, 0], dtype=np.uint8)\n",
    "    memory = {i: np.array([0, 0, 0]) for i in range(64)}\n",
    "elif channels == 4:\n",
    "    img_line = np.empty((0, 4), dtype=np.uint8)\n",
    "    pixel_prev = np.array([0, 0, 0, 255], dtype=np.uint8)\n",
    "    memory = {i: np.array([0, 0, 0, 255]) for i in range(64)}\n",
    "\n",
    "\n",
    "i = 0\n",
    "while i < nbytes:\n",
    "\n",
    "    byte = bytes[i]\n",
    "    byte_bin = '{0:08b}'.format(byte)\n",
    "\n",
    "    # Original value (RGB)\n",
    "    if byte_bin == '11111110':\n",
    "        r = bytes[i+1]\n",
    "        g = bytes[i+2]\n",
    "        b = bytes[i+3]\n",
    "\n",
    "        if channels == 3:\n",
    "            pixel = np.array([r, g, b], dtype=np.uint8)\n",
    "        elif channels == 4:\n",
    "            pixel = np.array([r, g, b, pixel_prev[3]], dtype=np.uint8)\n",
    "\n",
    "        img_line = np.concatenate((img_line, np.expand_dims(pixel, axis=0)))\n",
    "        memory[index_hash(pixel)] = pixel\n",
    "        pixel_prev = pixel.copy()\n",
    "        i += 4\n",
    "\n",
    "    # Original value (RGBA)\n",
    "    elif byte_bin == '11111111':\n",
    "        r = bytes[i+1]\n",
    "        g = bytes[i+2]\n",
    "        b = bytes[i+3]\n",
    "        a = bytes[i+4]\n",
    "\n",
    "        pixel = np.array([r, g, b, a], dtype=np.uint8)\n",
    "        img_line = np.concatenate((img_line, np.expand_dims(pixel, axis=0)))\n",
    "        \n",
    "        memory[index_hash(pixel)] = pixel\n",
    "        pixel_prev = pixel.copy()\n",
    "        i += 5\n",
    "\n",
    "    # Run\n",
    "    elif byte_bin[:2] == '11':\n",
    "        run_len = int(byte_bin[2:], 2) + 1\n",
    "        pixels = np.full((run_len, channels), pixel_prev, dtype=np.uint8)\n",
    "        img_line = np.concatenate((img_line, pixels))\n",
    "        i += 1\n",
    "\n",
    "    # Big dif (luma)\n",
    "    elif byte_bin[:2] == '10':\n",
    "        dg = (int(byte_bin[2:], 2) - 32) #% 256\n",
    "\n",
    "        byte_next = bytes[i+1]\n",
    "        byte_next_bin = '{0:08b}'.format(byte_next)\n",
    "        dr = (int(byte_next_bin[:4], 2) - 8 + dg) #% 256\n",
    "        db = (int(byte_next_bin[4:], 2) - 8 + dg) #% 256\n",
    "\n",
    "        if channels == 3: pixel_diff = np.array([dr, dg, db])\n",
    "        elif channels == 4: pixel_diff = np.array([dr, dg, db, 0])\n",
    "        pixel = ((pixel_prev.copy() + pixel_diff).astype(np.uint8)) % 256\n",
    "        img_line = np.concatenate((img_line, np.expand_dims(pixel, axis=0)))\n",
    "        \n",
    "        memory[index_hash(pixel)] = pixel\n",
    "        pixel_prev = pixel.copy()\n",
    "        i += 2\n",
    "\n",
    "    # Small dif  ## TODO: no %256 needed for dr, dg, db?\n",
    "    elif byte_bin[:2] == '01':\n",
    "        dr = int(byte_bin[2:4], 2) - 2\n",
    "        dg = int(byte_bin[4:6], 2) - 2\n",
    "        db = int(byte_bin[6:8], 2) - 2\n",
    "        \n",
    "        if channels == 3: pixel_diff = np.array([dr, dg, db])\n",
    "        elif channels == 4: pixel_diff = np.array([dr, dg, db, 0])\n",
    "        pixel = (pixel_prev.copy() + pixel_diff).astype(np.uint8) % 256\n",
    "        img_line = np.concatenate((img_line, np.expand_dims(pixel, axis=0)))\n",
    "\n",
    "        memory[index_hash(pixel)] = pixel\n",
    "        pixel_prev = pixel.copy()\n",
    "        i += 1\n",
    "\n",
    "    # Index\n",
    "    elif byte_bin[:2] == '00':\n",
    "        index = int(byte_bin[2:], 2)\n",
    "        pixel = memory[index].copy()\n",
    "        img_line = np.concatenate((img_line, np.expand_dims(pixel, axis=0)))\n",
    "        pixel_prev = pixel.copy()\n",
    "        i += 1\n",
    "\n",
    "# 11min7s"
   ]
  },
  {
   "cell_type": "code",
   "execution_count": 12,
   "metadata": {},
   "outputs": [
    {
     "data": {
      "text/plain": [
       "True"
      ]
     },
     "execution_count": 12,
     "metadata": {},
     "output_type": "execute_result"
    }
   ],
   "source": [
    "image_out = img_line.copy().reshape((height, width, channels))\n",
    "cv2.imwrite(f'{filename}.png', image_out)"
   ]
  },
  {
   "cell_type": "code",
   "execution_count": null,
   "metadata": {},
   "outputs": [],
   "source": []
  }
 ],
 "metadata": {
  "interpreter": {
   "hash": "397704579725e15f5c7cb49fe5f0341eb7531c82d19f2c29d197e8b64ab5776b"
  },
  "kernelspec": {
   "display_name": "Python 3.9.0 64-bit",
   "language": "python",
   "name": "python3"
  },
  "language_info": {
   "codemirror_mode": {
    "name": "ipython",
    "version": 3
   },
   "file_extension": ".py",
   "mimetype": "text/x-python",
   "name": "python",
   "nbconvert_exporter": "python",
   "pygments_lexer": "ipython3",
   "version": "3.9.0"
  },
  "orig_nbformat": 4
 },
 "nbformat": 4,
 "nbformat_minor": 2
}
